{
 "cells": [
  {
   "cell_type": "code",
   "execution_count": 4,
   "metadata": {},
   "outputs": [
    {
     "name": "stdout",
     "output_type": "stream",
     "text": [
      "The total number of words in the file is: 22315646\n"
     ]
    }
   ],
   "source": [
    "def count_words(file_name):\n",
    "    try:\n",
    "        with open(file_name, 'r') as file:\n",
    "            text = file.read()\n",
    "            words = text.split()\n",
    "            num_words = len(words)\n",
    "            return num_words\n",
    "    except FileNotFoundError:\n",
    "        return -1  \n",
    "\n",
    "file_path = 'Medicindk_all_text.txt'\n",
    "\n",
    "word_count = count_words(file_path)\n",
    "\n",
    "if word_count == -1:\n",
    "    print(\"File not found!\")\n",
    "else:\n",
    "    print(f\"The total number of words in the file is: {word_count}\")"
   ]
  }
 ],
 "metadata": {
  "kernelspec": {
   "display_name": "base",
   "language": "python",
   "name": "python3"
  },
  "language_info": {
   "codemirror_mode": {
    "name": "ipython",
    "version": 3
   },
   "file_extension": ".py",
   "mimetype": "text/x-python",
   "name": "python",
   "nbconvert_exporter": "python",
   "pygments_lexer": "ipython3",
   "version": "3.9.13"
  }
 },
 "nbformat": 4,
 "nbformat_minor": 2
}
