{
 "cells": [
  {
   "cell_type": "code",
   "execution_count": 2,
   "metadata": {},
   "outputs": [],
   "source": [
    "import pandas as pd\n",
    "\n",
    "# Read the text file\n",
    "with open('Sundheddk_all_text.txt', 'r', encoding='utf-8') as file:\n",
    "    data = file.read()\n",
    "\n",
    "# Combine lines into paragraphs and split articles based on empty lines\n",
    "articles = data.split('\\n\\n')\n",
    "\n",
    "# Create lists to hold extracted data\n",
    "source_list = []\n",
    "header_list = []\n",
    "text_list = []\n",
    "summary_list = []\n",
    "\n",
    "# Extract required information for each article\n",
    "for article in articles:\n",
    "    lines = article.split('\\n')\n",
    "    source = \"SundhedDK\"\n",
    "    header = lines[0].strip()\n",
    "    summary = \"\"\n",
    "    text = \"\"\n",
    "\n",
    "    # Find the start and end of the summary\n",
    "    start_index = -1\n",
    "    end_index = -1\n",
    "    in_summary = False\n",
    "    for i, line in enumerate(lines):\n",
    "        if line.startswith('Fakta') and not in_summary:\n",
    "            in_summary = True\n",
    "            start_index = i + 1\n",
    "        elif line.startswith('Hvad er') and in_summary:\n",
    "            end_index = i - 1\n",
    "            in_summary = False\n",
    "\n",
    "    # Extract summary and text\n",
    "    if start_index != -1 and end_index != -1:\n",
    "        summary = '\\n\\n'.join(lines[start_index:end_index + 1])\n",
    "        text = '\\n'.join(lines[end_index + 2:]) if end_index + 2 < len(lines) else ''\n",
    "\n",
    "        # Append data to respective lists\n",
    "        source_list.append(source)\n",
    "        header_list.append(header)\n",
    "        text_list.append(text)\n",
    "        summary_list.append(summary)\n",
    "\n",
    "# Create a pandas dataframe\n",
    "df = pd.DataFrame({\n",
    "    'Source': source_list,\n",
    "    'Header': header_list,\n",
    "    'Text': text_list,\n",
    "    'Summary': summary_list\n",
    "})\n"
   ]
  },
  {
   "cell_type": "code",
   "execution_count": 47,
   "metadata": {},
   "outputs": [
    {
     "name": "stdout",
     "output_type": "stream",
     "text": [
      "0       Hæmofili og von Willebrands sygdom er arvelige...\n",
      "1       Atelektase betyder lufttomt lungevævog opstår,...\n",
      "2       Overaktiv urinblære (OAB) medfører hyppige til...\n",
      "3       Sollys indeholder ultraviolette (UV) stråler, ...\n",
      "4       Åreknuder er udvidelser af de overfladiske blo...\n",
      "                              ...                        \n",
      "1923    Bevidsthedssvækkelse er, når en person kan vær...\n",
      "1924    Reyes syndrom er en meget sjælden, men alvorli...\n",
      "1925    Tuberkulose i ryggen er en sjælden sygdom i Da...\n",
      "1926    Hvis man har truende lavt stofskifte, har man ...\n",
      "1927    Hørenedsættelse betyder nedsat eller manglende...\n",
      "Name: Summary, Length: 1928, dtype: object\n"
     ]
    }
   ],
   "source": [
    "print(df['Summary'])"
   ]
  },
  {
   "cell_type": "code",
   "execution_count": 32,
   "metadata": {},
   "outputs": [],
   "source": [
    "df.to_csv('more_summs.csv', index=False)"
   ]
  },
  {
   "cell_type": "code",
   "execution_count": 48,
   "metadata": {},
   "outputs": [],
   "source": [
    "df.to_excel('more_summs_third.xlsx', index=False)"
   ]
  },
  {
   "cell_type": "code",
   "execution_count": 3,
   "metadata": {},
   "outputs": [],
   "source": [
    "# Load the first Excel file into a pandas DataFrame\n",
    "df1 = pd.read_excel('more_summs_Firstmod_Updated.xlsx')\n",
    "\n",
    "df1.columns\n",
    "\n",
    "# Drop the columns that are not needed\n",
    "df2 = pd.read_excel('Resumes_without_doubles_Final.xlsx')\n",
    "\n",
    "# Remove the last column\n",
    "df2 = df2.iloc[:, :-1]\n",
    "\n",
    "# Concatenate both DataFrames\n",
    "combined_df = pd.concat([df2, df1])\n",
    "\n",
    "# Drop rows if the Summary column is empty in any of the rows\n",
    "combined_df = combined_df.dropna(subset=['Summary'])\n",
    "\n",
    "# Remove duplicates based on the 'Title' column, keeping the first occurrence\n",
    "final_df = combined_df.drop_duplicates(subset='title', keep='first').reset_index(drop=True)"
   ]
  },
  {
   "cell_type": "code",
   "execution_count": 4,
   "metadata": {},
   "outputs": [
    {
     "name": "stdout",
     "output_type": "stream",
     "text": [
      "<class 'pandas.core.frame.DataFrame'>\n",
      "RangeIndex: 2340 entries, 0 to 2339\n",
      "Data columns (total 4 columns):\n",
      " #   Column   Non-Null Count  Dtype \n",
      "---  ------   --------------  ----- \n",
      " 0   source   2340 non-null   object\n",
      " 1   title    2340 non-null   object\n",
      " 2   text     2337 non-null   object\n",
      " 3   Summary  2340 non-null   object\n",
      "dtypes: object(4)\n",
      "memory usage: 73.2+ KB\n"
     ]
    }
   ],
   "source": [
    "final_df.info()"
   ]
  },
  {
   "cell_type": "code",
   "execution_count": 5,
   "metadata": {},
   "outputs": [],
   "source": [
    "final_df.to_excel('more_summs_final.xlsx', index=False)"
   ]
  }
 ],
 "metadata": {
  "kernelspec": {
   "display_name": "base",
   "language": "python",
   "name": "python3"
  },
  "language_info": {
   "codemirror_mode": {
    "name": "ipython",
    "version": 3
   },
   "file_extension": ".py",
   "mimetype": "text/x-python",
   "name": "python",
   "nbconvert_exporter": "python",
   "pygments_lexer": "ipython3",
   "version": "3.9.13"
  }
 },
 "nbformat": 4,
 "nbformat_minor": 2
}
