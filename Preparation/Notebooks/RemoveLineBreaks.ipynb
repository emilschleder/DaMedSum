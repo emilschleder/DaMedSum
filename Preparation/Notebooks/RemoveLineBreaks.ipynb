{
 "cells": [
  {
   "cell_type": "code",
   "execution_count": 10,
   "metadata": {},
   "outputs": [],
   "source": [
    "import pandas as pd\n",
    "import re\n",
    "\n",
    "# Load the Excel file\n",
    "file_path = 'more_summs_Firstmod.xlsx' \n",
    "sheet_name = 'Sheet1'  \n",
    "\n",
    "# Read the Excel file\n",
    "data = pd.read_excel(file_path, sheet_name=sheet_name)\n",
    "\n",
    "# Specify the column to process\n",
    "column_name = 'Summary'  \n",
    "\n",
    "data[column_name] = data[column_name].astype(str)\n",
    "\n",
    "\n",
    "# Replace line breaks and then target instances of \". .\" and replace with \". \"\n",
    "data[column_name] = data[column_name].str.replace('\\n', '. ')\n",
    "data[column_name] = data[column_name].apply(lambda x: re.sub(r'\\.\\s\\.', '. ', x))\n",
    "\n",
    "\n",
    "# Add a period at the end of each sentence if there isn't one already\n",
    "data[column_name] = data[column_name].apply(lambda x: x.strip() + '.' if x.strip()[-1] != '.' else x.strip())\n",
    "data[column_name] = data[column_name].apply(lambda x: re.sub(r'\\.\\.', '.', x))\n",
    "\n",
    "\n",
    "# Save the modified data to a new Excel file\n",
    "new_file_path = 'more_summs_Firstmod_Updated.xlsx'  \n",
    "data.to_excel(new_file_path, index=False)\n",
    "\n"
   ]
  },
  {
   "cell_type": "code",
   "execution_count": null,
   "metadata": {},
   "outputs": [],
   "source": [
    "# Remove the specific string \"Vil du vide mere?\"\n",
    "data[column_name] = data[column_name].str.replace('Vil du vide mere?', '')\n"
   ]
  },
  {
   "cell_type": "code",
   "execution_count": 11,
   "metadata": {},
   "outputs": [
    {
     "name": "stderr",
     "output_type": "stream",
     "text": [
      "/var/folders/jf/zx43b8bj66q9dhbmx0s7vj1r0000gn/T/ipykernel_43054/398168890.py:17: FutureWarning: The default value of regex will change from True to False in a future version.\n",
      "  data[column_name] = data[column_name].str.replace('Vil du vide mere?', '')\n"
     ]
    }
   ],
   "source": [
    "import pandas as pd\n",
    "import re\n",
    "\n",
    "# Load the Excel file\n",
    "file_path = 'more_summs_final.xlsx'  \n",
    "sheet_name = 'Sheet1' \n",
    "\n",
    "# Read the Excel file\n",
    "data = pd.read_excel(file_path, sheet_name=sheet_name)\n",
    "\n",
    "# Specify the column to process\n",
    "column_name = 'text'  \n",
    "\n",
    "data[column_name] = data[column_name].astype(str)\n",
    "\n",
    "# Remove the specific string \"Vil du vide mere?\"\n",
    "data[column_name] = data[column_name].str.replace('Vil du vide mere?', '')\n",
    "\n",
    "# Save the modified data to a new Excel file\n",
    "new_file_path = 'more_summs_final_Updated.xlsx'  \n",
    "data.to_excel(new_file_path, index=False)\n",
    "\n"
   ]
  },
  {
   "cell_type": "code",
   "execution_count": null,
   "metadata": {},
   "outputs": [],
   "source": [
    "# Compare the length of 'Summary' and 'Text' columns and drop rows where 'Summary' is longer\n",
    "data = data[data['Summary'].str.len() <= data['Text'].str.len()]"
   ]
  },
  {
   "cell_type": "code",
   "execution_count": 12,
   "metadata": {},
   "outputs": [],
   "source": [
    "import pandas as pd\n",
    "import re\n",
    "\n",
    "# Load the Excel file\n",
    "file_path = 'more_summs_final_Updated.xlsx'  \n",
    "sheet_name = 'Sheet1'  \n",
    "\n",
    "# Read the Excel file\n",
    "data = pd.read_excel(file_path, sheet_name=sheet_name)\n",
    "\n",
    "data[column_name] = data[column_name].astype(str)\n",
    "\n",
    "# Compare the length of 'Summary' and 'Text' columns and drop rows where 'Summary' is longer\n",
    "data = data[data['Summary'].str.len() <= data['text'].str.len()]\n",
    "\n",
    "# Save the modified data to a new Excel file\n",
    "new_file_path = 'more_summs_final_Updated_New.xlsx' \n",
    "data.to_excel(new_file_path, index=False)"
   ]
  }
 ],
 "metadata": {
  "kernelspec": {
   "display_name": "base",
   "language": "python",
   "name": "python3"
  },
  "language_info": {
   "codemirror_mode": {
    "name": "ipython",
    "version": 3
   },
   "file_extension": ".py",
   "mimetype": "text/x-python",
   "name": "python",
   "nbconvert_exporter": "python",
   "pygments_lexer": "ipython3",
   "version": "3.9.13"
  }
 },
 "nbformat": 4,
 "nbformat_minor": 2
}
