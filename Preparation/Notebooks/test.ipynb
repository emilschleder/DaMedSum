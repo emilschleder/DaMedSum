{
 "cells": [
  {
   "cell_type": "code",
   "execution_count": 2,
   "metadata": {},
   "outputs": [],
   "source": [
    "import pandas as pd\n",
    "\n",
    "Research = 'research.xlsx_BigDF.csv'\n",
    "WithoutDoubles = 'Resumes_without_doubles.csv'\n",
    "\n",
    "# Use the read_csv() function to load the CSV file into a DataFrame.\n",
    "ResearchDF = pd.read_csv(Research)\n",
    "WithoutDoublesDF = pd.read_csv(WithoutDoubles)"
   ]
  },
  {
   "cell_type": "code",
   "execution_count": 3,
   "metadata": {},
   "outputs": [
    {
     "data": {
      "text/plain": [
       "Index(['source', 'title', 'text_specialchars', 'text_without_specialchars',\n",
       "       'word_count', 'Summary', 'Unnamed: 6'],\n",
       "      dtype='object')"
      ]
     },
     "execution_count": 3,
     "metadata": {},
     "output_type": "execute_result"
    }
   ],
   "source": [
    "ResearchDF.columns"
   ]
  },
  {
   "cell_type": "code",
   "execution_count": 4,
   "metadata": {},
   "outputs": [
    {
     "data": {
      "text/plain": [
       "Index(['source', 'title', 'text_specialchars', 'text_without_specialchars',\n",
       "       'word_count', 'Summary'],\n",
       "      dtype='object')"
      ]
     },
     "execution_count": 4,
     "metadata": {},
     "output_type": "execute_result"
    }
   ],
   "source": [
    "WithoutDoublesDF.columns"
   ]
  },
  {
   "cell_type": "code",
   "execution_count": 6,
   "metadata": {},
   "outputs": [],
   "source": [
    "sundhed_dk_rows = ResearchDF[ResearchDF['source'] == 'SundhedDK']\n",
    "WithoutDoublesDF_sundhed = WithoutDoublesDF[WithoutDoublesDF['source'] == 'SundhedDK']\n",
    "\n",
    "matching_titles = []\n",
    "\n",
    "# Iterate through the titles in sundhed_dk_rows\n",
    "for title in sundhed_dk_rows['title']:\n",
    "    title_lower = title.lower()\n",
    "    \n",
    "    # Flag to check if the title is found in any column of WithoutDoublesDF_sundhed\n",
    "    found_in_columns = False\n",
    "    \n",
    "    # Iterate through all rows in WithoutDoublesDF_sundhed\n",
    "    for index, row in WithoutDoublesDF_sundhed.iterrows():\n",
    "        if (title_lower in row['title'].lower()) or (title_lower in row['text_without_specialchars'].lower()):\n",
    "            found_in_columns = True\n",
    "            break\n",
    "    \n",
    "    # If the title was not found in any column, add it to the matching_titles list\n",
    "    if not found_in_columns:\n",
    "        matching_titles.append(title)\n",
    "\n",
    "# Save the matching titles to a text file\n",
    "with open('values.txt', 'w') as file:\n",
    "    for title in matching_titles:\n",
    "        file.write(title + '\\n')"
   ]
  }
 ],
 "metadata": {
  "kernelspec": {
   "display_name": "base",
   "language": "python",
   "name": "python3"
  },
  "language_info": {
   "codemirror_mode": {
    "name": "ipython",
    "version": 3
   },
   "file_extension": ".py",
   "mimetype": "text/x-python",
   "name": "python",
   "nbconvert_exporter": "python",
   "pygments_lexer": "ipython3",
   "version": "3.9.13"
  }
 },
 "nbformat": 4,
 "nbformat_minor": 2
}
